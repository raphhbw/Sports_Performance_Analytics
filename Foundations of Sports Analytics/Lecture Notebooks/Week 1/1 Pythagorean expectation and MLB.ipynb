{
 "cells": [
  {
   "cell_type": "markdown",
   "metadata": {},
   "source": [
    "# Getting Started\n",
    "\n",
    "In this series of MOOCs we aim to introduce participants to methods for analyzing sports data using Python. In this first MOOC we introduce some basic concepts. These can be broken down into three areas:\n",
    "\n",
    "1.  How to code sports data so that you can apply statistical methods\n",
    "2. The use of statistical methods \n",
    "3. The interpretation of results\n",
    "\n",
    "As we go along we will introduce you to the concepts by analyzing data from different sports and generating results. Once you get the hang of how this works, you'll Pythagorean be able to do it for yourself.\n",
    "\n",
    "In this first week, we're going to go through simple but powerful examples that introduce you to all three elements."
   ]
  },
  {
   "cell_type": "markdown",
   "metadata": {},
   "source": [
    "# The Pythagorean Expectation\n",
    "\n",
    "The Pythagorean expectation is an idea devised by the famous baseball analyst, Bill James, but it can in fact be applied to any sport.\n",
    "\n",
    "In any sports league, teams win games by accumulating a higher total than  opponent. In baseball and cricket the relevant totals are runs, in basketball it is points, and in soccer and hockey it is goals (by \"hockey\" we mean here what the world outside of the US and Canada usually calls ice hockey, but in fact the same is true in field hockey).\n",
    "\n",
    "The Pythagorean expectation can be described thus: in any season, the percentage of games won will be proportional to the square of total runs/points/goals scored by the team *squared* divided by the sum of total runs/points/goals scored by the team *squared* plus total runs/points/goals conceded by the team *squared*.\n",
    "\n",
    "or *wpc = T<sub>F</sub><sup>2</sup> / ( T<sub>F</sub><sup>2</sup> + T<sub>A</sub><sup>2</sup> )*\n",
    "\n",
    "Where T<sub>F</sub> is runs/points/goals scored and T<sub>A</sub> is runs/points/goals conceded.\n",
    "\n",
    "This is a concept which can help to explain not only why teams are successful, but also can be used as the basis for predicting results in the future.\n",
    "\n",
    "In this first week we are going to derive the Pythagorean expectation for five leagues in five different sports:\n",
    "\n",
    "Major League Baseball\n",
    "The English Premier League (soccer)\n",
    "The Indian Premier League (cricket)\n",
    "The National Basketball Association (NBA)\n",
    "The National Hockey League (NHL)\n",
    "\n",
    "\n",
    "## Coding the data\n",
    "\n",
    "To derive the Pythagorean Expectation we will need to manipulate the data, which is a core skill that we expect you to obtain from these MOOCs. However, for this first week, we move quite quickly through the code, since our main objective is to show you the kinds of analysis you will be able to produce once you master Python."
   ]
  },
  {
   "cell_type": "markdown",
   "metadata": {},
   "source": [
    "## The Pythagorean Expectation for baseball\n",
    "\n",
    "We begin, naturally enough, with baseball. Running code in Python typically involves the following steps:\n",
    "\n",
    "1. Importing \"packages\" - these enable to run certain types of commands. The same ones come up over and over again - pandas, numpy, matplotlib.pyplot and so on.\n",
    "\n",
    "2. Import the raw data - from a csv or excel file - in these MOOCs we will provide the data for you\n",
    "\n",
    "3. Running commands to shape the data in preparation for running the statistical model\n",
    "\n",
    "4. Running the statistical model\n",
    "\n",
    "5. Reviewing the results\n",
    "\n",
    "With each line of code below, there is a brief explanation of the code. When you are ready, read each line, then place the cursor on the relevant line and press \"run\" in the toolbar."
   ]
  },
  {
   "cell_type": "code",
   "execution_count": null,
   "metadata": {},
   "outputs": [],
   "source": [
    "# Here are the packages we need\n",
    "\n",
    "import pandas as pd\n",
    "import numpy as np\n",
    "import statsmodels.formula.api as smf\n",
    "import matplotlib.pyplot as plt\n",
    "import seaborn as sns"
   ]
  },
  {
   "cell_type": "code",
   "execution_count": null,
   "metadata": {},
   "outputs": [],
   "source": [
    "# This command imports our data, which is a log of games played in 2018 doenloaded from Retrosheet \n",
    "#(you can find the data here: https://www.retrosheet.org/)\n",
    "# the second line of the command prints a list of variable names - there are many more than we need\n",
    "\n",
    "MLB = pd.read_excel('../../Data/Week 1/Retrosheet MLB game log 2018.xlsx')\n",
    "print(MLB.columns.tolist())"
   ]
  },
  {
   "cell_type": "code",
   "execution_count": null,
   "metadata": {
    "scrolled": true
   },
   "outputs": [],
   "source": [
    "# We can see what our dataframe looks like simply by typing its name\n",
    "\n",
    "MLB"
   ]
  },
  {
   "cell_type": "code",
   "execution_count": null,
   "metadata": {
    "scrolled": true
   },
   "outputs": [],
   "source": [
    "# For the Pythagorean Expectation we need only runs scored and conceded. Of course, we also need the names of the teams.\n",
    "# and the date will also be useful. We put these into a new dataframe (df) which we call MLB18.\n",
    "# The variable names are rather lengthy, so to make life easier we can rename columns to give them short names.\n",
    "# If we want to see what the data looks like, we can just type the name of the df.\n",
    "\n",
    "MLB18 = MLB[['VisitingTeam','HomeTeam','VisitorRunsScored','HomeRunsScore','Date']]\n",
    "MLB18 = MLB18.rename(columns={'VisitorRunsScored':'VisR','HomeRunsScore':'HomR'})\n",
    "MLB18"
   ]
  },
  {
   "cell_type": "code",
   "execution_count": null,
   "metadata": {},
   "outputs": [],
   "source": [
    "# We will need to know who won the game - which we can tell by who scored the more runs, the home team or the visiting teams\n",
    "#(there are no ties in baseball)\n",
    "# The variable 'hwin' is defined here as equaling 1 if the home team scored more runs, and zero otherwise. \n",
    "# The variable 'awin' is defined in a similar way for the away team.\n",
    "# we also create a 'counter' variable = 1 for each row.\n",
    "\n",
    "MLB18['hwin']= np.where(MLB18['HomR']>MLB18['VisR'],1,0)\n",
    "MLB18['awin']= np.where(MLB18['HomR']<MLB18['VisR'],1,0)\n",
    "MLB18['count']=1\n",
    "MLB18"
   ]
  },
  {
   "cell_type": "code",
   "execution_count": null,
   "metadata": {
    "scrolled": true
   },
   "outputs": [],
   "source": [
    "# Since our data refers to games, for each game there are two teams, but what we want is a list of runs scored and conceded\n",
    "# by each team and its win percentage. \n",
    "# To create this we are going to define two dfs, one for home teams and one for away teams, which we can then merge to get \n",
    "# the stats for the entire season.\n",
    "# Here we define a df for home teams. The command is called \".groupby\" and we will use this often. We group by home team\n",
    "# to obtain the sum of wins and runs (scored and conceded) and also the counter variable to show how many games were played \n",
    "# (in MLB the teams do not necessarily play the same number of games in the regular season)\n",
    "# Finally we rename the columns.\n",
    " \n",
    "MLBhome = MLB18.groupby('HomeTeam')['hwin','HomR','VisR','count'].sum().reset_index()\n",
    "MLBhome = MLBhome.rename(columns={'HomeTeam':'team','VisR':'VisRh','HomR':'HomRh','count':'Gh'})\n",
    "MLBhome"
   ]
  },
  {
   "cell_type": "code",
   "execution_count": null,
   "metadata": {},
   "outputs": [],
   "source": [
    "#Your Code Here"
   ]
  },
  {
   "cell_type": "markdown",
   "metadata": {},
   "source": [
    "# Self test - 1\n",
    "\n",
    "Sometimes the code you write doesn't produce the result you want, and you need to go back and re-do it. Frequently it makes sense to go back to the beginning, rather than try to amend a df which isn't working the way you want it to. Re-starting is easy- just click on \"Kernel\" in the toolbar and then click \"Restart and Clear Output\". You can now begin again.\n",
    "\n",
    "Copy the previous cell (first use \"Insert\" to add a extra cell, and then use copy and paste), and then delete \".reset_index()\" and then run the code to see what happens differently. The extra headings would be a problem later on, which makes \".reset_index()\" very useful in many situations."
   ]
  },
  {
   "cell_type": "code",
   "execution_count": null,
   "metadata": {
    "scrolled": true
   },
   "outputs": [],
   "source": [
    "# Now we create a similar df for teams playing as visitors - To write this code all you need to do is to copy and paste\n",
    "# the previous cell and then change any reference to the home team into a reference to the visiting team.\n",
    "\n",
    "MLBaway = MLB18.groupby('VisitingTeam')['awin','HomR','VisR','count'].sum().reset_index()\n",
    "MLBaway = MLBaway.rename(columns={'VisitingTeam':'team','VisR':'VisRa','HomR':'HomRa','count':'Ga'})\n",
    "MLBaway"
   ]
  },
  {
   "cell_type": "code",
   "execution_count": null,
   "metadata": {
    "scrolled": true
   },
   "outputs": [],
   "source": [
    "# We now merge MLBhome and MLBaway so that we have a list of all the clubs with home and away records for the 2018 season\n",
    "# We will be using pd.merge frequently during the course to combine dfs\n",
    "# Note that we've called this new df \"MLB18\", which is name we had already used for earlier df. By doing this we are simply\n",
    "# overwriting the old MLB18 - which is fine in this case since we don't need the data in the old MLB18 any more.\n",
    "# If we did want to retain the daat in the old MLB18 df, we should have given this new df a different name. \n",
    "\n",
    "MLB18 = pd.merge(MLBhome,MLBaway,on='team')\n",
    "MLB18"
   ]
  },
  {
   "cell_type": "markdown",
   "metadata": {},
   "source": [
    "# Self test - 2\n",
    "\n",
    "When creating MLBhome and MLBaway we we renamed the variables using \".rename(columns ={'oldname':'newname'})\". Copy and paste these cells and then re-run the code and see how the merge looks. Note that when Python encounters two variables with the same name in a merge it relabels the names with _x and _y. \n",
    "\n",
    "Sometimes we can work with the data in this way, but usually renaming makes it easier to follow."
   ]
  },
  {
   "cell_type": "code",
   "execution_count": null,
   "metadata": {
    "scrolled": true
   },
   "outputs": [],
   "source": [
    "# Now we create the total wins, games, played, runs scored and run conceded by summing the totals as home team and away team\n",
    "\n",
    "MLB18['W']=MLB18['hwin']+MLB18['awin']\n",
    "MLB18['G']=MLB18['Gh']+MLB18['Ga']\n",
    "MLB18['R']=MLB18['HomRh']+MLB18['VisRa']\n",
    "MLB18['RA']=MLB18['VisRh']+MLB18['HomRa']\n",
    "MLB18"
   ]
  },
  {
   "cell_type": "code",
   "execution_count": null,
   "metadata": {},
   "outputs": [],
   "source": [
    "# The last step in preparing the data is to define win percentage and the Pythagorean Expectation.\n",
    "\n",
    "MLB18['wpc'] = MLB18['W']/MLB18['G']\n",
    "MLB18['pyth'] = MLB18['R']**2/(MLB18['R']**2 + MLB18['RA']**2)\n",
    "MLB18"
   ]
  },
  {
   "cell_type": "code",
   "execution_count": null,
   "metadata": {},
   "outputs": [],
   "source": [
    "# Having prepared the data, we are now ready to examine it. First, we generate and xy plot use the Seaborn package.\n",
    "# This illustrates nicely the close correlation between win percentage and the Pythagorean Expectation.\n",
    "\n",
    "sns.relplot(x=\"pyth\", y=\"W\", data = MLB18)"
   ]
  },
  {
   "cell_type": "markdown",
   "metadata": {},
   "source": [
    "## Self test - 3\n",
    "\n",
    "run sns.relplot again, but this time write y=\"W\" instead of y=\"wpc\". What do you find? Does it make a difference?"
   ]
  },
  {
   "cell_type": "markdown",
   "metadata": {},
   "source": [
    "# Finally we generate a regression.\n",
    "\n",
    "The regression output tells you many things about the fitted relationship between win percentage and the Pythagorean Expectation. Regression is a method for identifying an equation which best fits the data. In this case that relationship is \n",
    "\n",
    "wpc = Intercept + coef x pyth\n",
    "\n",
    "You can see the value of Intercept is 0.0609 and coef is .8770. It's this latter value were interested in. It means that for every one unit increase in pyth, the value of wpc goes up by 0.887.\n",
    "\n",
    "Two other points to note: \n",
    "\n",
    "(i) The standard error (std err) gives us an idea of the precision of the estimate. The ratio of the coefficient (coef) to the standard error is called the t statistic (t) and its value informs us about statistical significance. This is illustrated by the p-value (P > |t|) - this is the probability that we would observe the value .8770 by chance, if the true value were really zero. This probability here is 0.000 - (this is not exactly zero, but the table doesn't include enough decimal places to show this) which means we can confident it is not zero. By convention, it is usual to conclude that we cannot be confident that the value of the coefficient is not zero if the p-value is greater than .05\n",
    "\n",
    "(ii) in the top right hand corner of the table is the R-squared. This statistic tells you the percentage of variation in the y-variable (wpc) which can be accounted for by the variation in the x variables (pyth). R-squared can be thought of as a percentage - here the Pythagorean Expectation can account for 89.4% of the variation in win percentage.\n"
   ]
  },
  {
   "cell_type": "code",
   "execution_count": null,
   "metadata": {},
   "outputs": [],
   "source": [
    "# Finally we generate a regression.\n",
    "\n",
    "pyth_lm = smf.ols(formula = 'wpc ~ pyth', data=MLB18).fit()\n",
    "pyth_lm.summary()"
   ]
  },
  {
   "cell_type": "markdown",
   "metadata": {},
   "source": [
    "## Self test - 4\n",
    "\n",
    "Run the regression above but instead write 'wpc ~ W' instead of 'wpc ~ pyth' in the line starting pyth_lm. What difference does this make?"
   ]
  },
  {
   "cell_type": "markdown",
   "metadata": {},
   "source": [
    "# Conclusion\n",
    "\n",
    "This example was intended to get you started- don't worry if some things seem unclear - we're now going to conduct the same analysis for cricket, basketball, soccer and hockey. This will extend your understanding and help to make clear what we have just looked at. \n",
    "\n",
    "A Useful Tip: when working in Python you will often come across problems that can be solved using methods you have encountered previously. It is often a good idea to return to an old notebook at a later stage to remind yourself how to code a particular problem."
   ]
  },
  {
   "cell_type": "code",
   "execution_count": null,
   "metadata": {},
   "outputs": [],
   "source": []
  }
 ],
 "metadata": {
  "kernelspec": {
   "display_name": "Python 3",
   "language": "python",
   "name": "python3"
  },
  "language_info": {
   "codemirror_mode": {
    "name": "ipython",
    "version": 3
   },
   "file_extension": ".py",
   "mimetype": "text/x-python",
   "name": "python",
   "nbconvert_exporter": "python",
   "pygments_lexer": "ipython3",
   "version": "3.6.7"
  }
 },
 "nbformat": 4,
 "nbformat_minor": 2
}
